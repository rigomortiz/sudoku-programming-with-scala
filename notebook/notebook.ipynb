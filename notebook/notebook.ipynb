{
 "cells": [
  {
   "cell_type": "code",
   "execution_count": 1,
   "metadata": {
    "pycharm": {
     "is_executing": true,
     "name": "#%%\n"
    }
   },
   "outputs": [
    {
     "data": {
      "text/plain": [
       "Intitializing Scala interpreter ..."
      ]
     },
     "metadata": {},
     "output_type": "display_data"
    },
    {
     "data": {
      "text/plain": [
       "Spark Web UI available at http://172.27.224.1:4040\n",
       "SparkContext available as 'sc' (version = 3.3.0, master = local[*], app id = local-1662839384320)\n",
       "SparkSession available as 'spark'\n"
      ]
     },
     "metadata": {},
     "output_type": "display_data"
    },
    {
     "data": {
      "text/plain": [
       "import scala.io.Source\n"
      ]
     },
     "execution_count": 1,
     "metadata": {},
     "output_type": "execute_result"
    }
   ],
   "source": [
    "import scala.io.Source"
   ]
  },
  {
   "cell_type": "code",
   "execution_count": 3,
   "metadata": {},
   "outputs": [
    {
     "data": {
      "text/plain": [
       "defined type alias Num\n",
       "ZERO: Int(0) = 0\n",
       "defined class Options\n",
       "defined class Cell\n",
       "defined class Grid\n",
       "defined class Position\n",
       "defined class Pair\n",
       "defined trait Strategy\n",
       "defined object Sudoku\n"
      ]
     },
     "execution_count": 3,
     "metadata": {},
     "output_type": "execute_result"
    }
   ],
   "source": [
    "type Num = Int\n",
    "final val ZERO = 0\n",
    "\n",
    "case class Options(set: Set[Num])\n",
    "case class Cell(value: Num, options: Options)\n",
    "case class Grid(array: Array[Array[Cell]])\n",
    "case class Position(row: Int, col: Int)\n",
    "case class Pair(cell: Cell, position: Position)\n",
    "trait Strategy {\n",
    "  def apply(grid: Grid): Grid\n",
    "}\n",
    "\n",
    "object Sudoku {\n",
    "  val size = 9\n",
    "  val numbers: Array[Num] = Array[Num](1 to 9 :_*)\n",
    "}"
   ]
  },
  {
   "cell_type": "code",
   "execution_count": 5,
   "metadata": {},
   "outputs": [
    {
     "data": {
      "text/plain": [
       "defined class Sudoku\n",
       "warning: previously defined object Sudoku is not a companion to class Sudoku.\n",
       "Companions must be defined together; you may wish to use :paste mode for this.\n"
      ]
     },
     "execution_count": 5,
     "metadata": {},
     "output_type": "execute_result"
    }
   ],
   "source": [
    "class Sudoku(val size: Int) {\n",
    "  def this() = this(Sudoku.size)\n",
    "  def readFile(src: String): Array[Array[Int]] =\n",
    "    Source.fromFile(src)\n",
    "      .map(_.getNumericValue)\n",
    "      .filter(e => e != -1)\n",
    "      .toArray\n",
    "      .grouped(size)\n",
    "      .toArray\n",
    "\n",
    "  def arrayToGrid(a: Array[Array[Int]]): Grid =\n",
    "    Grid(a.map(r => r.map(c => Cell(c, Options(Set())))))\n",
    "}"
   ]
  },
  {
   "cell_type": "code",
   "execution_count": 10,
   "metadata": {},
   "outputs": [
    {
     "data": {
      "text/plain": [
       "defined class ArrayNum\n"
      ]
     },
     "execution_count": 10,
     "metadata": {},
     "output_type": "execute_result"
    }
   ],
   "source": [
    "implicit class ArrayNum(val a: Array[Num]) {\n",
    "  def difference(b: Array[Num]): Array[Num] =\n",
    "    a.filter(n => !b.contains(n)).filter(n => n != ZERO)\n",
    "}"
   ]
  },
  {
   "cell_type": "code",
   "execution_count": 13,
   "metadata": {},
   "outputs": [
    {
     "data": {
      "text/plain": [
       "defined class ArrayCell\n"
      ]
     },
     "execution_count": 13,
     "metadata": {},
     "output_type": "execute_result"
    }
   ],
   "source": [
    "implicit class ArrayCell(val a: Array[Cell]) {\n",
    "  def getValues: Array[Num] = a.map(cell => cell.value).filter(e => e != ZERO)\n",
    "  def getOptions: Array[Num] = a.map(cell => cell.options.set).reduce(_ union _).toArray\n",
    "  def union(b: Array[Cell]): Array[Cell] =\n",
    "    (a ++ b).distinct\n",
    "}"
   ]
  },
  {
   "cell_type": "code",
   "execution_count": 14,
   "metadata": {},
   "outputs": [
    {
     "ename": "<console>",
     "evalue": "52: error: (Num, Pair) does not take parameters",
     "output_type": "error",
     "traceback": [
      "<console>:52: error: (Num, Pair) does not take parameters",
      "           .groupBy(e => e(0))",
      "                          ^",
      "<console>:57: error: (Num, Position) does not take parameters",
      "           .groupBy(e => e(0))",
      "                          ^",
      "<console>:62: error: (Num, Position) does not take parameters",
      "           .groupBy(e => e(1))",
      "                          ^",
      ""
     ]
    }
   ],
   "source": [
    "implicit class ArraPair(a: Array[Pair]) {\n",
    "  def valueEqualTo(n: Num): Array[Pair] = a.filter(cell => cell.cell.value == n)\n",
    "  def index(): Array[Position] = a.map(_.position)\n",
    "  def col(col: Int): Array[Pair] = a.filter(_.position.col == col)\n",
    "  def row(row: Int): Array[Pair] = a.filter(_.position.row == row)\n",
    "  def box(num: Int): Array[Pair] = {\n",
    "    val row = (num / 3) * 3\n",
    "    val col = (num % 3) * 3\n",
    "    a.filter(p => p.position.row >= row && p.position.row < row + 3 && p.position.col >= col && p.position.col < col + 3)\n",
    "  }\n",
    "  def uniqueOption(): Array[Pair] = a.filter(pair => pair.cell.options.set.size == 1)\n",
    "  /*def pair(): Array[Pair] =\n",
    "    val pair = a.filter(pair => pair.cell.options.set.size == 2)\n",
    "    if pair.length == 2 then pair else Array()*/\n",
    "\n",
    "  def emptyCells(): Array[Pair] = a.filter(_.cell.value == ZERO)\n",
    "  def groupBy(): List[Map[Num, Array[Pair]]] =\n",
    "    a.flatMap(e => e.cell.options.set.map(i => (i, e)))\n",
    "    .groupBy(e => e(0))\n",
    "    .map(e => Map(e._1 -> e._2.map(e => e._2)))\n",
    "    .toList\n",
    "  def groupByOption(): List[Map[Num, Array[Position]]] =\n",
    "    a.flatMap(e => e.cell.options.set.map(i => (i, e.position)))\n",
    "    .groupBy(e => e(0))\n",
    "    .map(e => Map(e._1 -> e._2.map(e => e._2)))\n",
    "    .toList\n",
    "  def groupByPosition(): List[Map[Position, Array[Num]]] =\n",
    "    a.flatMap(e => e.cell.options.set.map(i => (i, e.position)))\n",
    "    .groupBy(e => e(1))\n",
    "    .map(e => Map(e._1 -> e._2.map(e => e._1)))\n",
    "    .toList\n",
    "}\n"
   ]
  },
  {
   "cell_type": "code",
   "execution_count": null,
   "metadata": {},
   "outputs": [],
   "source": []
  }
 ],
 "metadata": {
  "kernelspec": {
   "display_name": "spylon-kernel",
   "language": "scala",
   "name": "spylon-kernel"
  },
  "language_info": {
   "codemirror_mode": "text/x-scala",
   "file_extension": ".scala",
   "help_links": [
    {
     "text": "MetaKernel Magics",
     "url": "https://metakernel.readthedocs.io/en/latest/source/README.html"
    }
   ],
   "mimetype": "text/x-scala",
   "name": "scala",
   "pygments_lexer": "scala",
   "version": "0.4.1"
  }
 },
 "nbformat": 4,
 "nbformat_minor": 1
}
